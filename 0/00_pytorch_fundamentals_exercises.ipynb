{
  "cells": [
    {
      "cell_type": "markdown",
      "metadata": {
        "id": "AzDBM_v4iMe7"
      },
      "source": [
        "# 00. PyTorch Fundamentals Exercises\n",
        "\n",
        "### 1. Documentation reading \n",
        "\n",
        "A big part of deep learning (and learning to code in general) is getting familiar with the documentation of a certain framework you're using. We'll be using the PyTorch documentation a lot throughout the rest of this course. So I'd recommend spending 10-minutes reading the following (it's okay if you don't get some things for now, the focus is not yet full understanding, it's awareness):\n",
        "  * The documentation on [`torch.Tensor`](https://pytorch.org/docs/stable/tensors.html#torch-tensor).\n",
        "  * The documentation on [`torch.cuda`](https://pytorch.org/docs/master/notes/cuda.html#cuda-semantics).\n",
        "\n"
      ]
    },
    {
      "cell_type": "code",
      "execution_count": 1,
      "metadata": {
        "id": "bGD0oD8Kizak"
      },
      "outputs": [],
      "source": [
        "# No code solution (reading)"
      ]
    },
    {
      "cell_type": "markdown",
      "metadata": {
        "id": "__iXqqz-ioUJ"
      },
      "source": [
        "### 2. Create a random tensor with shape `(7, 7)`.\n"
      ]
    },
    {
      "cell_type": "code",
      "execution_count": 5,
      "metadata": {
        "id": "6pUq9Dc8i2L7"
      },
      "outputs": [
        {
          "data": {
            "text/plain": [
              "tensor([[0.6076, 0.6842, 0.8282, 0.6995, 0.3158, 0.7982, 0.6283],\n",
              "        [0.7891, 0.0596, 0.5014, 0.4954, 0.0984, 0.6465, 0.8063],\n",
              "        [0.9365, 0.5460, 0.0783, 0.3169, 0.3702, 0.6459, 0.1835],\n",
              "        [0.8615, 0.6083, 0.8323, 0.0058, 0.3327, 0.2072, 0.2689],\n",
              "        [0.1499, 0.8133, 0.1378, 0.9187, 0.1288, 0.3278, 0.2079],\n",
              "        [0.2053, 0.9967, 0.3093, 0.2754, 0.1774, 0.7864, 0.7272],\n",
              "        [0.1735, 0.7392, 0.9519, 0.8555, 0.3535, 0.5677, 0.4119]])"
            ]
          },
          "execution_count": 5,
          "metadata": {},
          "output_type": "execute_result"
        }
      ],
      "source": [
        "# Import torch\n",
        "import torch\n",
        "\n",
        "# Create random tensor\n",
        "tensor=torch.rand(7,7)\n",
        "tensor"
      ]
    },
    {
      "cell_type": "markdown",
      "metadata": {
        "id": "9-XxvRLfiqkR"
      },
      "source": [
        "### 3. Perform a matrix multiplication on the tensor from 2 with another random tensor with shape `(1, 7)` (hint: you may have to transpose the second tensor)."
      ]
    },
    {
      "cell_type": "code",
      "execution_count": 7,
      "metadata": {
        "id": "NcLqR0Sbi_vT"
      },
      "outputs": [
        {
          "data": {
            "text/plain": [
              "tensor([[1.1305],\n",
              "        [0.6920],\n",
              "        [0.6093],\n",
              "        [0.6285],\n",
              "        [0.9141],\n",
              "        [0.8003],\n",
              "        [1.2132]])"
            ]
          },
          "execution_count": 7,
          "metadata": {},
          "output_type": "execute_result"
        }
      ],
      "source": [
        "# Create another random tensor\n",
        "tensor2=torch.rand(1,7)\n",
        "\n",
        "# Perform matrix multiplication \n",
        "tensor@tensor2.T\n"
      ]
    },
    {
      "cell_type": "markdown",
      "metadata": {
        "id": "eiutdKUFiryU"
      },
      "source": [
        "### 4. Set the random seed to `0` and do 2 & 3 over again.\n",
        "\n",
        "The output should be:\n",
        "```\n",
        "(tensor([[1.8542],\n",
        "         [1.9611],\n",
        "         [2.2884],\n",
        "         [3.0481],\n",
        "         [1.7067],\n",
        "         [2.5290],\n",
        "         [1.7989]]), torch.Size([7, 1]))\n",
        "```"
      ]
    },
    {
      "cell_type": "code",
      "execution_count": 8,
      "metadata": {
        "id": "D-lOWI_1jRMm"
      },
      "outputs": [
        {
          "data": {
            "text/plain": [
              "tensor([[1.7226e-01, 1.7865e-01, 7.4753e-02, 1.8730e-01, 7.6234e-02, 1.1732e-01,\n",
              "         5.0095e-02],\n",
              "        [4.0045e-03, 4.7469e-03, 6.7203e-04, 4.7158e-03, 2.9951e-03, 4.3868e-03,\n",
              "         2.8646e-03],\n",
              "        [2.2738e-01, 1.3175e-01, 2.7167e-01, 1.7609e-01, 8.1792e-02, 1.9251e-01,\n",
              "         8.2728e-02],\n",
              "        [5.1414e-02, 3.4588e-02, 9.6882e-02, 1.2268e-02, 3.1393e-02, 4.1798e-02,\n",
              "         2.3224e-02],\n",
              "        [4.9809e-01, 5.6077e-03, 8.6617e-01, 6.8512e-02, 8.0651e-01, 5.3088e-01,\n",
              "         3.0735e-01],\n",
              "        [5.2099e-01, 3.7219e-01, 5.8218e-01, 3.5721e-01, 2.2046e-01, 4.0853e-01,\n",
              "         2.3469e-01],\n",
              "        [5.0235e-01, 6.6921e-01, 5.5793e-01, 1.9899e-01, 5.5765e-01, 4.1681e-01,\n",
              "         5.3310e-01]])"
            ]
          },
          "execution_count": 8,
          "metadata": {},
          "output_type": "execute_result"
        }
      ],
      "source": [
        "# Set manual seed\n",
        "torch.manual_seed(42)\n",
        "\n",
        "# Create two random tensors\n",
        "a=torch.rand(7,7)\n",
        "b=torch.rand(1,7)\n",
        "\n",
        "# Matrix multiply tensors\n",
        "a*b.T"
      ]
    },
    {
      "cell_type": "markdown",
      "metadata": {
        "id": "ezY6ks9Cis37"
      },
      "source": [
        "### 5. Speaking of random seeds, we saw how to set it with `torch.manual_seed()` but is there a GPU equivalent? (hint: you'll need to look into the documentation for `torch.cuda` for this one)\n",
        "  * If there is, set the GPU random seed to `1234`."
      ]
    },
    {
      "cell_type": "code",
      "execution_count": 9,
      "metadata": {
        "id": "_LKWcfSTjp00"
      },
      "outputs": [],
      "source": [
        "# Set random seed on the GPU\n",
        "torch.cuda.manual_seed(134)"
      ]
    },
    {
      "cell_type": "markdown",
      "metadata": {
        "id": "Ir9qSaj6it4n"
      },
      "source": [
        "\n",
        "### 6. Create two random tensors of shape `(2, 3)` and send them both to the GPU (you'll need access to a GPU for this). Set `torch.manual_seed(1234)` when creating the tensors (this doesn't have to be the GPU random seed). The output should be something like:\n",
        "\n",
        "```\n",
        "Device: cuda\n",
        "(tensor([[0.0290, 0.4019, 0.2598],\n",
        "         [0.3666, 0.0583, 0.7006]], device='cuda:0'),\n",
        " tensor([[0.0518, 0.4681, 0.6738],\n",
        "         [0.3315, 0.7837, 0.5631]], device='cuda:0'))\n",
        "```"
      ]
    },
    {
      "cell_type": "code",
      "execution_count": 11,
      "metadata": {
        "id": "azXExiFZj5nm"
      },
      "outputs": [],
      "source": [
        "# Set random seed\n",
        "torch.cuda.manual_seed(134)\n",
        "\n",
        "# Check for access to GPU\n",
        "device = \"cuda\" if torch.cuda.is_available() else \"cpu\"\n",
        "# Create two random tensors on GPU\n",
        "c=torch.rand(3,4).to(device)\n",
        "d=torch.rand(3,4).to(device)\n"
      ]
    },
    {
      "cell_type": "markdown",
      "metadata": {
        "id": "5TlAxeiSiu1y"
      },
      "source": [
        "\n",
        "### 7. Perform a matrix multiplication on the tensors you created in 6 (again, you may have to adjust the shapes of one of the tensors).\n",
        "\n",
        "The output should look like:\n",
        "```\n",
        "(tensor([[0.3647, 0.4709],\n",
        "         [0.5184, 0.5617]], device='cuda:0'), torch.Size([2, 2]))\n",
        "```"
      ]
    },
    {
      "cell_type": "code",
      "execution_count": 13,
      "metadata": {
        "id": "fAeG7ox0lHEO"
      },
      "outputs": [],
      "source": [
        "# Perform matmul on tensor_A and tensor_B\n",
        "e=c@d.T"
      ]
    },
    {
      "cell_type": "markdown",
      "metadata": {
        "id": "G7qfa5CSivwg"
      },
      "source": [
        "### 8. Find the maximum and minimum values of the output of 7."
      ]
    },
    {
      "cell_type": "code",
      "execution_count": 17,
      "metadata": {
        "id": "Fu8_3mZpllOd"
      },
      "outputs": [
        {
          "data": {
            "text/plain": [
              "(tensor(1.7470, device='cuda:0'), tensor(0.2007, device='cuda:0'))"
            ]
          },
          "execution_count": 17,
          "metadata": {},
          "output_type": "execute_result"
        }
      ],
      "source": [
        "# Find max\n",
        "e.max(),e.min()\n",
        "# Find min\n",
        "\n"
      ]
    },
    {
      "cell_type": "markdown",
      "metadata": {
        "id": "wrTj5FgNiw47"
      },
      "source": [
        "### 9. Find the maximum and minimum index values of the output of 7."
      ]
    },
    {
      "cell_type": "code",
      "execution_count": 18,
      "metadata": {
        "id": "CCEKt4K2lsfQ"
      },
      "outputs": [
        {
          "data": {
            "text/plain": [
              "(tensor(8, device='cuda:0'), tensor(3, device='cuda:0'))"
            ]
          },
          "execution_count": 18,
          "metadata": {},
          "output_type": "execute_result"
        }
      ],
      "source": [
        "# Find arg max\n",
        "e.argmax(),e.argmin()\n",
        "\n",
        "# Find arg min\n"
      ]
    },
    {
      "cell_type": "markdown",
      "metadata": {
        "id": "hmeybz4uixy7"
      },
      "source": [
        "\n",
        "### 10. Make a random tensor with shape `(1, 1, 1, 10)` and then create a new tensor with all the `1` dimensions removed to be left with a tensor of shape `(10)`. Set the seed to `7` when you create it and print out the first tensor and it's shape as well as the second tensor and it's shape.\n",
        "\n",
        "The output should look like:\n",
        "\n",
        "```\n",
        "tensor([[[[0.5349, 0.1988, 0.6592, 0.6569, 0.2328, 0.4251, 0.2071, 0.6297,\n",
        "           0.3653, 0.8513]]]]) torch.Size([1, 1, 1, 10])\n",
        "tensor([0.5349, 0.1988, 0.6592, 0.6569, 0.2328, 0.4251, 0.2071, 0.6297, 0.3653,\n",
        "        0.8513]) torch.Size([10])\n",
        "```"
      ]
    },
    {
      "cell_type": "code",
      "execution_count": 19,
      "metadata": {
        "id": "TQ9zbRzVl1jV"
      },
      "outputs": [
        {
          "data": {
            "text/plain": [
              "(tensor([0.4581, 0.4829, 0.3125, 0.6150, 0.2139, 0.4118, 0.6938, 0.9693, 0.6178,\n",
              "         0.3304]),\n",
              " torch.Size([10]))"
            ]
          },
          "execution_count": 19,
          "metadata": {},
          "output_type": "execute_result"
        }
      ],
      "source": [
        "# Set seed\n",
        "torch.manual_seed(10)\n",
        "\n",
        "# Create random tensor\n",
        "tensor=torch.rand(1,1,1,10)\n",
        "\n",
        "# Remove single dimensions\n",
        "removed=tensor.squeeze()\n",
        "\n",
        "# Print out tensors and their shapes\n",
        "removed,removed.shape"
      ]
    },
    {
      "cell_type": "code",
      "execution_count": null,
      "metadata": {},
      "outputs": [],
      "source": []
    }
  ],
  "metadata": {
    "accelerator": "GPU",
    "colab": {
      "collapsed_sections": [],
      "name": "00_pytorch_fundamentals_exercises.ipynb",
      "provenance": []
    },
    "kernelspec": {
      "display_name": "Python 3",
      "name": "python3"
    },
    "language_info": {
      "codemirror_mode": {
        "name": "ipython",
        "version": 3
      },
      "file_extension": ".py",
      "mimetype": "text/x-python",
      "name": "python",
      "nbconvert_exporter": "python",
      "pygments_lexer": "ipython3",
      "version": "3.11.9"
    }
  },
  "nbformat": 4,
  "nbformat_minor": 0
}
